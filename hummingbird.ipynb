{
  "nbformat": 4,
  "nbformat_minor": 0,
  "metadata": {
    "colab": {
      "name": "hummingbird.ipynb",
      "provenance": [],
      "mount_file_id": "157KYffF0OBU36aBerw1t8oJGW9G-HF5h",
      "authorship_tag": "ABX9TyPytHYH8nTFRaQ4yJ8nYDLB",
      "include_colab_link": true
    },
    "kernelspec": {
      "name": "python3",
      "display_name": "Python 3"
    },
    "accelerator": "GPU"
  },
  "cells": [
    {
      "cell_type": "markdown",
      "metadata": {
        "id": "view-in-github",
        "colab_type": "text"
      },
      "source": [
        "<a href=\"https://colab.research.google.com/github/aidamash/Pytorch-UNet/blob/master/hummingbird.ipynb\" target=\"_parent\"><img src=\"https://colab.research.google.com/assets/colab-badge.svg\" alt=\"Open In Colab\"/></a>"
      ]
    },
    {
      "cell_type": "code",
      "metadata": {
        "colab": {
          "base_uri": "https://localhost:8080/"
        },
        "id": "7ANk0qSRu1eJ",
        "outputId": "41572e1d-2b54-46f9-98d7-1ae2684f9622"
      },
      "source": [
        "import gc\n",
        "import os\n",
        "\n",
        "import time\n",
        "import tqdm\n",
        "import collections\n",
        "import numpy as np\n",
        "import pandas as pd\n",
        "import matplotlib.pyplot as plt\n",
        "from tqdm.auto import tqdm as tq\n",
        "from sklearn.model_selection import train_test_split\n",
        "\n",
        "!pip install rasterio\n",
        "import rasterio as rst\n",
        "import rasterio.features\n",
        "import rasterio.warp\n",
        "from rasterio.plot import show\n",
        "from rasterio.windows import Window\n",
        "from rasterio.plot import reshape_as_raster, reshape_as_image"
      ],
      "execution_count": 6,
      "outputs": [
        {
          "output_type": "stream",
          "text": [
            "Collecting rasterio\n",
            "\u001b[?25l  Downloading https://files.pythonhosted.org/packages/cb/ed/aa7cc593dbcb974f80ca0a15967d44abc820dbeb063e01478c95adcca156/rasterio-1.2.0-cp37-cp37m-manylinux1_x86_64.whl (19.1MB)\n",
            "\u001b[K     |████████████████████████████████| 19.1MB 163kB/s \n",
            "\u001b[?25hRequirement already satisfied: click<8,>=4.0 in /usr/local/lib/python3.7/dist-packages (from rasterio) (7.1.2)\n",
            "Collecting click-plugins\n",
            "  Downloading https://files.pythonhosted.org/packages/e9/da/824b92d9942f4e472702488857914bdd50f73021efea15b4cad9aca8ecef/click_plugins-1.1.1-py2.py3-none-any.whl\n",
            "Collecting snuggs>=1.4.1\n",
            "  Downloading https://files.pythonhosted.org/packages/cc/0e/d27d6e806d6c0d1a2cfdc5d1f088e42339a0a54a09c3343f7f81ec8947ea/snuggs-1.4.7-py3-none-any.whl\n",
            "Requirement already satisfied: numpy in /usr/local/lib/python3.7/dist-packages (from rasterio) (1.19.5)\n",
            "Collecting cligj>=0.5\n",
            "  Downloading https://files.pythonhosted.org/packages/42/1e/947eadf10d6804bf276eb8a038bd5307996dceaaa41cfd21b7a15ec62f5d/cligj-0.7.1-py3-none-any.whl\n",
            "Requirement already satisfied: attrs in /usr/local/lib/python3.7/dist-packages (from rasterio) (20.3.0)\n",
            "Collecting affine\n",
            "  Downloading https://files.pythonhosted.org/packages/ac/a6/1a39a1ede71210e3ddaf623982b06ecfc5c5c03741ae659073159184cd3e/affine-2.3.0-py2.py3-none-any.whl\n",
            "Requirement already satisfied: certifi in /usr/local/lib/python3.7/dist-packages (from rasterio) (2020.12.5)\n",
            "Requirement already satisfied: pyparsing>=2.1.6 in /usr/local/lib/python3.7/dist-packages (from snuggs>=1.4.1->rasterio) (2.4.7)\n",
            "Installing collected packages: click-plugins, snuggs, cligj, affine, rasterio\n",
            "Successfully installed affine-2.3.0 click-plugins-1.1.1 cligj-0.7.1 rasterio-1.2.0 snuggs-1.4.7\n"
          ],
          "name": "stdout"
        }
      ]
    },
    {
      "cell_type": "code",
      "metadata": {
        "id": "EKb6WZFd7YUF"
      },
      "source": [
        "from google.colab import drive\n",
        "drive.mount('/content/drive')"
      ],
      "execution_count": null,
      "outputs": []
    },
    {
      "cell_type": "code",
      "metadata": {
        "colab": {
          "base_uri": "https://localhost:8080/"
        },
        "id": "CtT8RNENu_NM",
        "outputId": "62a46c20-a31c-4d51-fd9a-91e7e9a91c12"
      },
      "source": [
        "#read and visualise images\n",
        "src = rasterio.open('drive/MyDrive/hummingbird/all/apollo1.tif')\n",
        "src.name\n",
        "\n",
        "#find the shape\n",
        "array = src.read()\n",
        "array.shape, type(array)\n"
      ],
      "execution_count": 8,
      "outputs": [
        {
          "output_type": "execute_result",
          "data": {
            "text/plain": [
              "((3, 2769, 3659), numpy.ndarray)"
            ]
          },
          "metadata": {
            "tags": []
          },
          "execution_count": 8
        }
      ]
    },
    {
      "cell_type": "code",
      "metadata": {
        "colab": {
          "base_uri": "https://localhost:8080/"
        },
        "id": "44dLnSVsvq_I",
        "outputId": "69ff879b-f4ed-4327-f3d8-cd63eeeb00b3"
      },
      "source": [
        "img_path = 'drive/MyDrive/hummingbird/all/'\n",
        "img_list = []\n",
        "for filename in os.listdir(img_path):\n",
        "        # find images\n",
        "        img_list.append(img_path + filename)\n",
        "\n",
        "img_list"
      ],
      "execution_count": 10,
      "outputs": [
        {
          "output_type": "execute_result",
          "data": {
            "text/plain": [
              "['drive/MyDrive/hummingbird/all/apollo3.tif',\n",
              " 'drive/MyDrive/hummingbird/all/apollo2.tif',\n",
              " 'drive/MyDrive/hummingbird/all/apollo1.tif',\n",
              " 'drive/MyDrive/hummingbird/all/littlegems2.tif',\n",
              " 'drive/MyDrive/hummingbird/all/littlegems3.tif']"
            ]
          },
          "metadata": {
            "tags": []
          },
          "execution_count": 10
        }
      ]
    },
    {
      "cell_type": "code",
      "metadata": {
        "id": "fBUpIFCXvvVQ"
      },
      "source": [
        "width=218\n",
        "height=218\n",
        "rows = 2\n",
        "cols = 3\n",
        "axes=[]\n",
        "fig=plt.figure()\n",
        "\n",
        "for i, img in enumerate(img_list):\n",
        "    print(img)\n",
        "    src = rst.open(img)\n",
        "    b = reshape_as_image(src.read())\n",
        "    #axes.append(fig.add_subplot(rows, cols, a+1) )\n",
        "    plt.subplot(3, 2, i+1)\n",
        "    plt.imshow(b)\n",
        "\n",
        "fig.tight_layout()    \n",
        "plt.show()\n",
        "\n",
        "\n"
      ],
      "execution_count": null,
      "outputs": []
    },
    {
      "cell_type": "code",
      "metadata": {
        "colab": {
          "base_uri": "https://localhost:8080/"
        },
        "id": "dBEnKxO7yPjX",
        "outputId": "985baa10-c043-4c04-9198-594ae0cf1d65"
      },
      "source": [
        "labels = ['apollo', 'littlegems']\n",
        "# dict that maps labels to integers, and the reverse\n",
        "labels_map = {labels[i]:i for i in range(len(labels))}\n",
        "inv_labels_map = {i:labels[i] for i in range(len(labels))}\n",
        "labels_map,inv_labels_map"
      ],
      "execution_count": 11,
      "outputs": [
        {
          "output_type": "execute_result",
          "data": {
            "text/plain": [
              "({'apollo': 0, 'littlegems': 1}, {0: 'apollo', 1: 'littlegems'})"
            ]
          },
          "metadata": {
            "tags": []
          },
          "execution_count": 11
        }
      ]
    },
    {
      "cell_type": "markdown",
      "metadata": {
        "id": "bsrql7FavPcB"
      },
      "source": [
        "# New Section"
      ]
    },
    {
      "cell_type": "markdown",
      "metadata": {
        "id": "WzyuSwnU7hpi"
      },
      "source": [
        "Load keras and tensorflow related libs"
      ]
    },
    {
      "cell_type": "code",
      "metadata": {
        "id": "HR4V2GLm7gAP"
      },
      "source": [
        "import tensorflow as tf\n",
        "from tensorflow import keras\n",
        "from tensorflow.keras import layers\n",
        "from tensorflow.keras import Sequential\n",
        "from keras.models import Sequential\n",
        "from keras.layers import Dense, Dropout, Activation, Flatten\n",
        "from keras.layers import Conv2D, MaxPooling2D\n",
        "\n",
        "import sys\n",
        "from numpy import load\n",
        "from matplotlib import pyplot\n",
        "from sklearn.model_selection import train_test_split\n",
        "from sklearn.feature_extraction import image\n",
        "from keras import backend\n",
        "from keras.preprocessing.image import ImageDataGenerator\n",
        "from keras.models import Sequential\n",
        "from keras.layers import Conv2D\n",
        "from keras.layers import MaxPooling2D\n",
        "from keras.layers import Dense\n",
        "from keras.layers import Flatten\n",
        "from keras.optimizers import SGD\n",
        "from tensorflow.keras import initializers"
      ],
      "execution_count": 12,
      "outputs": []
    },
    {
      "cell_type": "code",
      "metadata": {
        "id": "L6Yp3gtT7n1u"
      },
      "source": [
        "# define cnn model\n",
        "def define_model(in_shape=(128, 128, 3), out_shape=1):\n",
        "\tmodel = Sequential()\n",
        "\tmodel.add(Conv2D(32, (3, 3), activation='relu', kernel_initializer='random_normal', padding='same', input_shape=in_shape))\n",
        "\tmodel.add(Conv2D(32, (3, 3), activation='relu', kernel_initializer='random_normal', padding='same'))\n",
        "\tmodel.add(MaxPooling2D((2, 2)))\n",
        "\tmodel.add(Conv2D(64, (3, 3), activation='relu', kernel_initializer='random_normal', padding='same'))\n",
        "\tmodel.add(Conv2D(64, (3, 3), activation='relu', kernel_initializer='random_normal', padding='same'))\n",
        "\tmodel.add(MaxPooling2D((2, 2)))\n",
        "\tmodel.add(Conv2D(128, (3, 3), activation='relu', kernel_initializer='random_normal', padding='same'))\n",
        "\tmodel.add(Conv2D(128, (3, 3), activation='relu', kernel_initializer='random_normal', padding='same'))\n",
        "\tmodel.add(MaxPooling2D((2, 2)))\n",
        "\tmodel.add(Flatten())\n",
        "\tmodel.add(Dense(128, activation='relu', kernel_initializer=initializers.RandomNormal(stddev=0.01),bias_initializer='zeros' ))\n",
        "\n",
        "\tmodel.add(Dense(out_shape, activation='sigmoid'))\n",
        "\t# compile model\n",
        "\topt = keras.optimizers.SGD(lr=0.001, momentum=0.9)\n",
        "\tmodel.compile(optimizer=opt, loss='binary_crossentropy')\n",
        "\treturn model"
      ],
      "execution_count": 13,
      "outputs": []
    },
    {
      "cell_type": "code",
      "metadata": {
        "id": "vPZro6eu7qZ1"
      },
      "source": [
        "from rasterio.windows import Window\n",
        "import numpy as np\n",
        "width = 128\n",
        "height = 128\n",
        "def load_dataset(path):\n",
        "    photos = list()\n",
        "    labels = []\n",
        "    mapping=dict()\n",
        "    # enumerate files in the directory\n",
        "    for filename in os.listdir(path):\n",
        "      # load image\n",
        "      print(path + filename)\n",
        "      src = rst.open(path + filename)\n",
        "      \n",
        "      # convert to numpy array\n",
        "      photo = src.read(window=Window(0, 0, width, height))\n",
        "      photo = reshape_as_image(photo)\n",
        "      profile = src.profile\n",
        "      profile['width'] = width\n",
        "      profile['height'] = height\n",
        "      print(photo.shape)\n",
        "\n",
        "      # get labels\n",
        "      if 'apollo' in filename:\n",
        "          labels.append(0)\n",
        "          mapping[filename] = 0\n",
        "      else:\n",
        "          labels.append(1)\n",
        "          mapping[filename] = 1\n",
        "      #store\n",
        "      photos.append(photo)\n",
        "      X = np.asarray(photos, dtype='uint8')\n",
        "      y = np.asarray(labels, dtype='uint8')\n",
        "    return X, y\n"
      ],
      "execution_count": 25,
      "outputs": []
    },
    {
      "cell_type": "code",
      "metadata": {
        "colab": {
          "base_uri": "https://localhost:8080/"
        },
        "id": "SL5gk03p7w_k",
        "outputId": "904630c8-2e78-4fad-9490-51af2bb3d013"
      },
      "source": [
        "X, y = load_dataset(\"drive/MyDrive/hummingbird/all/\")\n",
        "X_train, X_test, y_train, y_test = train_test_split(X, y, test_size=0.33)\n",
        "# create data generator\n",
        "datagen = ImageDataGenerator(rescale=1.0/255.0,\n",
        "                             horizontal_flip=True,\n",
        "                             height_shift_range=0.5,\n",
        "                             rotation_range=90)\n",
        "# prepare iterators\n",
        "train_it = datagen.flow(X_train, y_train, batch_size=1)\n",
        "test_it = datagen.flow(X_test, y_test, batch_size=1)\n",
        "# # define model\n",
        "model = define_model()\n"
      ],
      "execution_count": 26,
      "outputs": [
        {
          "output_type": "stream",
          "text": [
            "drive/MyDrive/hummingbird/all/apollo3.tif\n",
            "(128, 128, 3)\n",
            "drive/MyDrive/hummingbird/all/apollo2.tif\n",
            "(128, 128, 3)\n",
            "drive/MyDrive/hummingbird/all/apollo1.tif\n",
            "(128, 128, 3)\n",
            "drive/MyDrive/hummingbird/all/littlegems2.tif\n",
            "(128, 128, 3)\n",
            "drive/MyDrive/hummingbird/all/littlegems3.tif\n",
            "(128, 128, 3)\n",
            "drive/MyDrive/hummingbird/all/littlegems1.tif\n",
            "(128, 128, 3)\n"
          ],
          "name": "stdout"
        }
      ]
    },
    {
      "cell_type": "code",
      "metadata": {
        "id": "VSTx4L3h7s01"
      },
      "source": [
        "# epochs = 10\n",
        "\n",
        "# checkpoint_filepath = 'model/'\n",
        "# model_checkpoint_callback = tf.keras.callbacks.ModelCheckpoint(\n",
        "#     filepath=checkpoint_filepath,\n",
        "#     monitor='val_accuracy',\n",
        "#     mode='max')\n",
        "\n",
        "# model.compile(\n",
        "#     optimizer=keras.optimizers.SGD(),\n",
        "#     loss=\"binary_crossentropy\",\n",
        "#     metrics=[\"accuracy\"],\n",
        "# )\n",
        "# model.fit(\n",
        "#     train_it, epochs=epochs, callbacks=model_checkpoint_callback, validation_data=test_it,\n",
        "# )"
      ],
      "execution_count": 32,
      "outputs": []
    },
    {
      "cell_type": "code",
      "metadata": {
        "id": "9dYsUK6u8ZBI"
      },
      "source": [
        "def load_dataset(path):\n",
        "    photos = list()\n",
        "    labels = []\n",
        "    mapping = dict()\n",
        "    # enumerate files in the directory\n",
        "    for filename in os.listdir(path):\n",
        "      # load image\n",
        "      print(path + filename)\n",
        "      src = rst.open(path + filename)\n",
        "\n",
        "      # convert to numpy array\n",
        "      photo = src.read()\n",
        "      photo = reshape_as_image(photo)\n",
        "      print(photo.shape)\n",
        "      patches = image.extract_patches_2d(photo, (128, 128))\n",
        "\n",
        "      # get tags\n",
        "      if 'apollo' in filename:\n",
        "          labels.append(0)\n",
        "          mapping[filename] = 0\n",
        "      else:\n",
        "          labels.append(1)\n",
        "          mapping[filename] = 1\n",
        "      \n",
        "\n",
        "      photos.append(photo)\n",
        "      \n",
        "      #targets.append(target)\n",
        "      X = np.asarray(photos, dtype='uint8')\n",
        "      y = np.asarray(labels, dtype='uint8')\n",
        "    return X, y\n"
      ],
      "execution_count": 33,
      "outputs": []
    },
    {
      "cell_type": "code",
      "metadata": {
        "colab": {
          "base_uri": "https://localhost:8080/",
          "height": 232
        },
        "id": "gg_dXR3I_kgW",
        "outputId": "c8db3b25-44ea-44dd-eff0-dd5abb4f4a4f"
      },
      "source": [
        "X, y = load_dataset(\"drive/MyDrive/hummingbird/all/\")\n",
        "X_train, X_test, y_train, y_test = train_test_split(X, y, test_size=0.33)\n",
        "# create data generator\n",
        "# datagen = ImageDataGenerator(rescale=1.0/255.0,\n",
        "#                              horizontal_flip=True,\n",
        "#                              height_shift_range=0.5,\n",
        "#                              rotation_range=90)\n",
        "# # prepare iterators\n",
        "# train_it = datagen.flow(X_train, y_train, batch_size=1)\n",
        "# test_it = datagen.flow(X_test, y_test, batch_size=1)\n",
        "# # # define model\n",
        "# model = define_model()\n",
        "\n",
        "\n",
        "\n",
        "# src = rst.open('dataset/all/apollo1.tif')\n",
        "# from sklearn.feature_extraction import image    \n",
        "# import patchify\n",
        "# # convert to numpy array\n",
        "# photo = src.read()\n",
        "# photo = reshape_as_image(photo)\n",
        "# photo.shape\n",
        "# patches = image.extract_patches_2d(photo, (3, 3))\n",
        "# print(photo.shape), print('Patches shape: {}'.format(patches.shape))\n",
        "# print(patches[800])"
      ],
      "execution_count": 1,
      "outputs": [
        {
          "output_type": "error",
          "ename": "NameError",
          "evalue": "ignored",
          "traceback": [
            "\u001b[0;31m---------------------------------------------------------------------------\u001b[0m",
            "\u001b[0;31mNameError\u001b[0m                                 Traceback (most recent call last)",
            "\u001b[0;32m<ipython-input-1-f5ce1d334d64>\u001b[0m in \u001b[0;36m<module>\u001b[0;34m()\u001b[0m\n\u001b[0;32m----> 1\u001b[0;31m \u001b[0mX\u001b[0m\u001b[0;34m,\u001b[0m \u001b[0my\u001b[0m \u001b[0;34m=\u001b[0m \u001b[0mload_dataset\u001b[0m\u001b[0;34m(\u001b[0m\u001b[0;34m\"drive/MyDrive/hummingbird/all/\"\u001b[0m\u001b[0;34m)\u001b[0m\u001b[0;34m\u001b[0m\u001b[0;34m\u001b[0m\u001b[0m\n\u001b[0m\u001b[1;32m      2\u001b[0m \u001b[0mX_train\u001b[0m\u001b[0;34m,\u001b[0m \u001b[0mX_test\u001b[0m\u001b[0;34m,\u001b[0m \u001b[0my_train\u001b[0m\u001b[0;34m,\u001b[0m \u001b[0my_test\u001b[0m \u001b[0;34m=\u001b[0m \u001b[0mtrain_test_split\u001b[0m\u001b[0;34m(\u001b[0m\u001b[0mX\u001b[0m\u001b[0;34m,\u001b[0m \u001b[0my\u001b[0m\u001b[0;34m,\u001b[0m \u001b[0mtest_size\u001b[0m\u001b[0;34m=\u001b[0m\u001b[0;36m0.33\u001b[0m\u001b[0;34m)\u001b[0m\u001b[0;34m\u001b[0m\u001b[0;34m\u001b[0m\u001b[0m\n\u001b[1;32m      3\u001b[0m \u001b[0;31m# create data generator\u001b[0m\u001b[0;34m\u001b[0m\u001b[0;34m\u001b[0m\u001b[0;34m\u001b[0m\u001b[0m\n\u001b[1;32m      4\u001b[0m \u001b[0;31m# datagen = ImageDataGenerator(rescale=1.0/255.0,\u001b[0m\u001b[0;34m\u001b[0m\u001b[0;34m\u001b[0m\u001b[0;34m\u001b[0m\u001b[0m\n\u001b[1;32m      5\u001b[0m \u001b[0;31m#                              horizontal_flip=True,\u001b[0m\u001b[0;34m\u001b[0m\u001b[0;34m\u001b[0m\u001b[0;34m\u001b[0m\u001b[0m\n",
            "\u001b[0;31mNameError\u001b[0m: name 'load_dataset' is not defined"
          ]
        }
      ]
    },
    {
      "cell_type": "code",
      "metadata": {
        "id": "CTfAzGV-ARFn"
      },
      "source": [
        ""
      ],
      "execution_count": null,
      "outputs": []
    }
  ]
}